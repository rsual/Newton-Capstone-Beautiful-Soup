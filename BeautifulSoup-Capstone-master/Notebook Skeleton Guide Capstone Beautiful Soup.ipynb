{
 "cells": [
  {
   "cell_type": "markdown",
   "metadata": {},
   "source": [
    "# Capstone Webscrapping using BeautifulSoup\n",
    "\n",
    "This notebook contains guidances & tasks on the data processing for the application\n",
    "\n",
    "(We are going to extract (webscrapping) historical USD/IDR currency price data from Exchange-Rates.org in order to find the recent USD/IDR trend.)\n",
    "\n",
    "\n",
    "## Requesting the Data and Creating a BeautifulSoup\n",
    "\n",
    "Let's begin with requesting the web from the site with `get` method."
   ]
  },
  {
   "cell_type": "code",
   "execution_count": 1,
   "metadata": {
    "ExecuteTime": {
     "end_time": "2020-01-13T05:12:23.275508Z",
     "start_time": "2020-01-13T05:12:20.009898Z"
    }
   },
   "outputs": [],
   "source": [
    "import requests\n",
    "\n",
    "url_get = requests.get('https://www.exchange-rates.org/history/IDR/USD/T')"
   ]
  },
  {
   "cell_type": "markdown",
   "metadata": {},
   "source": [
    "To visualize what exactly you get from the `request.get`, we can use .content so ee what we exactly get, in here i slice it so it won't make our screen full of the html we get from the page. You can delete the slicing if you want to see what we fully get."
   ]
  },
  {
   "cell_type": "code",
   "execution_count": 2,
   "metadata": {
    "ExecuteTime": {
     "end_time": "2020-01-13T05:12:23.290648Z",
     "start_time": "2020-01-13T05:12:23.277650Z"
    }
   },
   "outputs": [
    {
     "data": {
      "text/plain": [
       "b'\\n<!DOCTYPE html>\\r\\n<!--[if lt IE 9]>\\r\\n    <html class=\"no-js ie8 oldie\" lang=\\'en\\' xml:lang=\\'en\\'>\\r\\n<![endif]-->\\r\\n<!--[if gt IE 8]><!--> <html class=\"no-js\" lang=\\'en\\' xml:lang=\\'en\\'> <!--<![endif]-->\\r\\n<head><title>Indonesian Rupiah Exchange Rate - US Dollar - Historical Exchange Rates</title>\\n<meta http-equiv=\"X-UA-Compatible\" content=\"IE=edge\">\\n<meta content=\"C#\" name=\"CODE_LANGUAGE\" />\\n<meta content=\"JavaScript\" name=\"vs_defaultClientScript\" />\\n<meta content=\"http://schemas.microsoft.com/intellisense/ie5\" name=\"vs_targetSchema\" />\\n<meta name=\"viewport\" content=\"width=device-width, initial-scale=1, maximum-scale=5\">\\n<meta http-equiv=\"Content-Type\" content=\"text/html; charset=utf-8\" />\\n\\n<meta name=\"mapping\" content=\"AP\" />\\n<base href=\"https://www.exchange-rates.org/\" />'"
      ]
     },
     "execution_count": 2,
     "metadata": {},
     "output_type": "execute_result"
    }
   ],
   "source": [
    "url_get.content[1:777]"
   ]
  },
  {
   "cell_type": "markdown",
   "metadata": {},
   "source": [
    "As we can see we get a very unstructured and complex html, which actually contains the codes needed to show the webpages on your web browser. But we as human still confused what and where we can use that piece of code, so here where we use the beautifulsoup. Beautiful soup class will result a beautifulsoup object. Beautiful Soup transforms a complex HTML document into a complex tree of Python objects. \n",
    "\n",
    "Let's make Beautiful soup object and feel free to explore the object here."
   ]
  },
  {
   "cell_type": "code",
   "execution_count": 3,
   "metadata": {
    "ExecuteTime": {
     "end_time": "2020-01-13T05:12:23.808122Z",
     "start_time": "2020-01-13T05:12:23.292610Z"
    }
   },
   "outputs": [
    {
     "name": "stdout",
     "output_type": "stream",
     "text": [
      "<class 'bs4.BeautifulSoup'>\n"
     ]
    }
   ],
   "source": [
    "from bs4 import BeautifulSoup \n",
    "\n",
    "soup = BeautifulSoup(url_get.content,\"html.parser\")\n",
    "print(type(soup))"
   ]
  },
  {
   "cell_type": "markdown",
   "metadata": {},
   "source": [
    "## Finding the right key to scrap the data & Extracting the right information"
   ]
  },
  {
   "cell_type": "markdown",
   "metadata": {},
   "source": [
    "Find the key and put the key into the `.find()` Put all the exploring the right key at this cell. (please change this markdown with your explanation)"
   ]
  },
  {
   "cell_type": "code",
   "execution_count": 4,
   "metadata": {
    "ExecuteTime": {
     "end_time": "2020-01-13T05:12:23.878904Z",
     "start_time": "2020-01-13T05:12:23.854974Z"
    }
   },
   "outputs": [
    {
     "name": "stdout",
     "output_type": "stream",
     "text": [
      "table class=\"table table-striped table-hover table-hover-solid-row table-simple history-data\">\n",
      " <tbody>\n",
      "  <tr>\n",
      "   <td>\n",
      "    3/5/2021\n",
      "   </td>\n",
      "   <td>\n",
      "    Friday\n",
      "   </td>\n",
      "   <td>\n",
      "    <a href=\"/Rate/USD/IDR/3-5-2021\">\n",
      "     14,292.17893\n",
      "    </a>\n",
      "    IDR\n",
      "   </td>\n",
      "   <td class=\"text-narrow-screen-hidden\">\n",
      "    <a href=\"/Rate/USD/IDR/3-5-2021\">\n",
      "     USD IDR rate for 3/5/2021\n",
      "    </a>\n",
      "   </td>\n",
      "  </tr>\n",
      "  <tr>\n",
      "   <td>\n",
      "    3/4/2021\n",
      "   </td>\n",
      "   <td>\n",
      "    Thursday\n",
      "   </td>\n",
      "   <td>\n",
      "    <a href=\"/Rate/USD/IDR/3-4-2021\">\n",
      "     14,261.85426\n",
      "    </a>\n",
      "    IDR\n",
      "   </td>\n",
      "   <td class=\"text-narrow-screen-hidden\">\n",
      "    <a href=\"/Rate/USD/IDR/3-4-2021\">\n",
      "     USD IDR rate for 3/4/2021\n",
      "    </a>\n",
      "   </td>\n",
      "  </tr>\n",
      "  <tr>\n",
      "   <td>\n",
      "    3/3/2021\n",
      "   </td>\n",
      "   <td>\n",
      "    Wednesday\n",
      "   </td>\n",
      "   <td>\n",
      "    <a href=\"/Rate/USD/IDR/3-3-2021\">\n",
      "     14,257.29443\n",
      "    </a>\n",
      "    IDR\n",
      "   </td>\n",
      "   <td class=\"text-narrow-screen-hidden\">\n",
      "    <a href=\"/Rate/USD/IDR/3-3-2021\">\n",
      "     USD IDR rate for 3/3/2021\n",
      "    </a>\n",
      "   </td>\n",
      "  </tr>\n",
      "  <tr>\n",
      "   <td>\n"
     ]
    }
   ],
   "source": [
    "table = soup.find('table', attrs={'class':'table table-striped table-hover table-hover-solid-row table-simple history-data'})\n",
    "print(table.prettify()[1:1000])\n"
   ]
  },
  {
   "cell_type": "markdown",
   "metadata": {},
   "source": [
    "Do the scrapping process here (please change this markdown with your explanation)"
   ]
  },
  {
   "cell_type": "code",
   "execution_count": 5,
   "metadata": {},
   "outputs": [
    {
     "data": {
      "text/plain": [
       "[<tr><td>3/5/2021</td><td>Friday</td><td><a href=\"/Rate/USD/IDR/3-5-2021\">14,292.17893</a> IDR</td><td class=\"text-narrow-screen-hidden\"><a href=\"/Rate/USD/IDR/3-5-2021\">USD IDR rate for 3/5/2021</a></td></tr>,\n",
       " <tr><td>3/4/2021</td><td>Thursday</td><td><a href=\"/Rate/USD/IDR/3-4-2021\">14,261.85426</a> IDR</td><td class=\"text-narrow-screen-hidden\"><a href=\"/Rate/USD/IDR/3-4-2021\">USD IDR rate for 3/4/2021</a></td></tr>,\n",
       " <tr><td>3/3/2021</td><td>Wednesday</td><td><a href=\"/Rate/USD/IDR/3-3-2021\">14,257.29443</a> IDR</td><td class=\"text-narrow-screen-hidden\"><a href=\"/Rate/USD/IDR/3-3-2021\">USD IDR rate for 3/3/2021</a></td></tr>,\n",
       " <tr><td>3/2/2021</td><td>Tuesday</td><td><a href=\"/Rate/USD/IDR/3-2-2021\">14,256.28041</a> IDR</td><td class=\"text-narrow-screen-hidden\"><a href=\"/Rate/USD/IDR/3-2-2021\">USD IDR rate for 3/2/2021</a></td></tr>,\n",
       " <tr><td>3/1/2021</td><td>Monday</td><td><a href=\"/Rate/USD/IDR/3-1-2021\">14,248.60576</a> IDR</td><td class=\"text-narrow-screen-hidden\"><a href=\"/Rate/USD/IDR/3-1-2021\">USD IDR rate for 3/1/2021</a></td></tr>,\n",
       " <tr><td>2/26/2021</td><td>Friday</td><td><a href=\"/Rate/USD/IDR/2-26-2021\">14,300.27815</a> IDR</td><td class=\"text-narrow-screen-hidden\"><a href=\"/Rate/USD/IDR/2-26-2021\">USD IDR rate for 2/26/2021</a></td></tr>,\n",
       " <tr><td>2/25/2021</td><td>Thursday</td><td><a href=\"/Rate/USD/IDR/2-25-2021\">14,139.73096</a> IDR</td><td class=\"text-narrow-screen-hidden\"><a href=\"/Rate/USD/IDR/2-25-2021\">USD IDR rate for 2/25/2021</a></td></tr>,\n",
       " <tr><td>2/24/2021</td><td>Wednesday</td><td><a href=\"/Rate/USD/IDR/2-24-2021\">14,083.03673</a> IDR</td><td class=\"text-narrow-screen-hidden\"><a href=\"/Rate/USD/IDR/2-24-2021\">USD IDR rate for 2/24/2021</a></td></tr>,\n",
       " <tr><td>2/23/2021</td><td>Tuesday</td><td><a href=\"/Rate/USD/IDR/2-23-2021\">14,092.64503</a> IDR</td><td class=\"text-narrow-screen-hidden\"><a href=\"/Rate/USD/IDR/2-23-2021\">USD IDR rate for 2/23/2021</a></td></tr>,\n",
       " <tr><td>2/22/2021</td><td>Monday</td><td><a href=\"/Rate/USD/IDR/2-22-2021\">14,118.07274</a> IDR</td><td class=\"text-narrow-screen-hidden\"><a href=\"/Rate/USD/IDR/2-22-2021\">USD IDR rate for 2/22/2021</a></td></tr>,\n",
       " <tr><td>2/19/2021</td><td>Friday</td><td><a href=\"/Rate/USD/IDR/2-19-2021\">14,066.79375</a> IDR</td><td class=\"text-narrow-screen-hidden\"><a href=\"/Rate/USD/IDR/2-19-2021\">USD IDR rate for 2/19/2021</a></td></tr>,\n",
       " <tr><td>2/18/2021</td><td>Thursday</td><td><a href=\"/Rate/USD/IDR/2-18-2021\">14,013.51318</a> IDR</td><td class=\"text-narrow-screen-hidden\"><a href=\"/Rate/USD/IDR/2-18-2021\">USD IDR rate for 2/18/2021</a></td></tr>]"
      ]
     },
     "execution_count": 5,
     "metadata": {},
     "output_type": "execute_result"
    }
   ],
   "source": [
    "tr = table.find_all('tr')\n",
    "\n",
    "tr[:12]"
   ]
  },
  {
   "cell_type": "code",
   "execution_count": 6,
   "metadata": {},
   "outputs": [
    {
     "data": {
      "text/plain": [
       "[('3/4/2021', '14261.85426'),\n",
       " ('3/3/2021', '14257.29443'),\n",
       " ('3/2/2021', '14256.28041'),\n",
       " ('3/1/2021', '14248.60576'),\n",
       " ('2/26/2021', '14300.27815'),\n",
       " ('2/25/2021', '14139.73096'),\n",
       " ('2/24/2021', '14083.03673'),\n",
       " ('2/23/2021', '14092.64503'),\n",
       " ('2/22/2021', '14118.07274'),\n",
       " ('2/19/2021', '14066.79375'),\n",
       " ('2/18/2021', '14013.51318'),\n",
       " ('2/16/2021', '13935.96629'),\n",
       " ('2/15/2021', '13918.18725'),\n",
       " ('2/12/2021', '13988.54710'),\n",
       " ('2/11/2021', '13982.27900'),\n",
       " ('2/10/2021', '13994.09212'),\n",
       " ('2/9/2021', '13920.52018'),\n",
       " ('2/8/2021', '14007.25257'),\n",
       " ('2/5/2021', '14008.99630'),\n",
       " ('2/4/2021', '14020.87878'),\n",
       " ('2/3/2021', '13997.60682'),\n",
       " ('2/2/2021', '14004.60175'),\n",
       " ('2/1/2021', '14025.27450'),\n",
       " ('1/29/2021', '14027.32457'),\n",
       " ('1/28/2021', '14048.06146'),\n",
       " ('1/27/2021', '14048.72649'),\n",
       " ('1/26/2021', '14062.91108'),\n",
       " ('1/25/2021', '14021.11609'),\n",
       " ('1/22/2021', '14025.60268'),\n",
       " ('1/21/2021', '13964.91920'),\n",
       " ('1/20/2021', '14021.43046'),\n",
       " ('1/19/2021', '14063.60877'),\n",
       " ('1/18/2021', '14055.43768'),\n",
       " ('1/14/2021', '14070.58746'),\n",
       " ('1/13/2021', '14125.90174'),\n",
       " ('1/12/2021', '14074.81444'),\n",
       " ('1/11/2021', '14137.24151'),\n",
       " ('1/8/2021', '13991.16348'),\n",
       " ('1/7/2021', '13905.64377'),\n",
       " ('1/6/2021', '13861.51463'),\n",
       " ('1/5/2021', '13906.05686'),\n",
       " ('1/4/2021', '14015.86887'),\n",
       " ('1/1/2021', '14213.67526'),\n",
       " ('12/31/2020', '14120.57461'),\n",
       " ('12/30/2020', '14020.01350'),\n",
       " ('12/29/2020', '14108.18177'),\n",
       " ('12/28/2020', '14139.81753'),\n",
       " ('12/25/2020', '14211.65343'),\n",
       " ('12/24/2020', '14188.41293'),\n",
       " ('12/23/2020', '14183.64082'),\n",
       " ('12/22/2020', '14164.98134'),\n",
       " ('12/21/2020', '14124.20148'),\n",
       " ('12/18/2020', '14101.05758'),\n",
       " ('12/17/2020', '14101.72807'),\n",
       " ('12/16/2020', '14084.50704'),\n",
       " ('12/15/2020', '14124.19150'),\n",
       " ('12/14/2020', '14087.17417'),\n",
       " ('12/11/2020', '14076.36739'),\n",
       " ('12/10/2020', '14103.70444'),\n",
       " ('12/9/2020', '14096.39851'),\n",
       " ('12/8/2020', '14105.04229'),\n",
       " ('12/7/2020', '14103.58039'),\n",
       " ('12/4/2020', '14092.75807'),\n",
       " ('12/3/2020', '14109.15139'),\n",
       " ('12/2/2020', '14094.65785'),\n",
       " ('12/1/2020', '14118.51435'),\n",
       " ('11/30/2020', '14114.11663'),\n",
       " ('11/27/2020', '14078.12448'),\n",
       " ('11/26/2020', '14090.70769'),\n",
       " ('11/25/2020', '14136.09929'),\n",
       " ('11/24/2020', '14137.48161'),\n",
       " ('11/23/2020', '14185.57119'),\n",
       " ('11/20/2020', '14162.60519'),\n",
       " ('11/19/2020', '14165.50144'),\n",
       " ('11/18/2020', '14051.29503'),\n",
       " ('11/17/2020', '14040.16051'),\n",
       " ('11/16/2020', '14085.69501'),\n",
       " ('11/13/2020', '14142.77143'),\n",
       " ('11/12/2020', '14141.24303'),\n",
       " ('11/11/2020', '14073.46024'),\n",
       " ('11/10/2020', '14053.76135'),\n",
       " ('11/9/2020', '14283.29667'),\n",
       " ('11/6/2020', '14214.49744'),\n",
       " ('11/5/2020', '14389.14027'),\n",
       " ('11/4/2020', '14544.44634'),\n",
       " ('11/3/2020', '14589.01774'),\n",
       " ('11/2/2020', '14612.89990'),\n",
       " ('10/30/2020', '14629.16216'),\n",
       " ('10/29/2020', '14701.62361'),\n",
       " ('10/28/2020', '14701.92586'),\n",
       " ('10/27/2020', '14649.78960'),\n",
       " ('10/26/2020', '14652.88010'),\n",
       " ('10/23/2020', '14655.04157'),\n",
       " ('10/22/2020', '14647.90877'),\n",
       " ('10/21/2020', '14641.61060'),\n",
       " ('10/20/2020', '14555.88071'),\n",
       " ('10/19/2020', '14705.13256'),\n",
       " ('10/16/2020', '14688.43616'),\n",
       " ('10/15/2020', '14667.95340'),\n",
       " ('10/14/2020', '14696.21912'),\n",
       " ('10/13/2020', '14687.35100'),\n",
       " ('10/12/2020', '14677.85296'),\n",
       " ('10/9/2020', '14679.27910'),\n",
       " ('10/8/2020', '14692.93025'),\n",
       " ('10/7/2020', '14705.58246'),\n",
       " ('10/6/2020', '14857.67854'),\n",
       " ('10/5/2020', '14797.90178'),\n",
       " ('10/2/2020', '14852.30483'),\n",
       " ('10/1/2020', '14822.66605'),\n",
       " ('9/30/2020', '14867.44686'),\n",
       " ('9/29/2020', '14880.93210'),\n",
       " ('9/28/2020', '14892.32194'),\n",
       " ('9/27/2020', '14859.98349'),\n",
       " ('9/25/2020', '14855.63943'),\n",
       " ('9/24/2020', '14888.78607'),\n",
       " ('9/23/2020', '14825.54899'),\n",
       " ('9/22/2020', '14751.85786'),\n",
       " ('9/21/2020', '14701.43420'),\n",
       " ('9/20/2020', '14728.84529'),\n",
       " ('9/18/2020', '14730.71792'),\n",
       " ('9/17/2020', '14829.41738'),\n",
       " ('9/16/2020', '14807.88761'),\n",
       " ('9/15/2020', '14843.44670'),\n",
       " ('9/14/2020', '14864.65988'),\n",
       " ('9/13/2020', '14876.45021')]"
      ]
     },
     "execution_count": 6,
     "metadata": {},
     "output_type": "execute_result"
    }
   ],
   "source": [
    "temp = [] #initiating a tuple\n",
    "\n",
    "for i in list(range(1, 12)) + list(range(14, 36)) + list(range (38,130)):\n",
    "    row = table.find_all('tr') [i]\n",
    "\n",
    "    \n",
    "    #get tanggal\n",
    "    Tanggal = row.find_all('td')[0].text\n",
    "    Tanggal = Tanggal.strip()\n",
    "    \n",
    "    #get USD_IDR\n",
    "    USD_IDR = row.find_all('td')[2].text\n",
    "    USD_IDR = USD_IDR.replace('IDR','')\n",
    "    USD_IDR = USD_IDR.replace(',','')\n",
    "    USD_IDR = USD_IDR.strip()\n",
    "    \n",
    "    temp.append((Tanggal,USD_IDR))\n",
    "    #scrapping process\n",
    "    \n",
    "temp "
   ]
  },
  {
   "cell_type": "markdown",
   "metadata": {},
   "source": [
    "## Creating data frame & Data wrangling"
   ]
  },
  {
   "cell_type": "markdown",
   "metadata": {},
   "source": [
    "Put the array into dataframe"
   ]
  },
  {
   "cell_type": "code",
   "execution_count": 7,
   "metadata": {
    "ExecuteTime": {
     "end_time": "2020-01-13T05:12:41.517372Z",
     "start_time": "2020-01-13T05:12:29.130015Z"
    }
   },
   "outputs": [
    {
     "data": {
      "text/html": [
       "<div>\n",
       "<style scoped>\n",
       "    .dataframe tbody tr th:only-of-type {\n",
       "        vertical-align: middle;\n",
       "    }\n",
       "\n",
       "    .dataframe tbody tr th {\n",
       "        vertical-align: top;\n",
       "    }\n",
       "\n",
       "    .dataframe thead th {\n",
       "        text-align: right;\n",
       "    }\n",
       "</style>\n",
       "<table border=\"1\" class=\"dataframe\">\n",
       "  <thead>\n",
       "    <tr style=\"text-align: right;\">\n",
       "      <th></th>\n",
       "      <th>Tanggal</th>\n",
       "      <th>USD_IDR</th>\n",
       "    </tr>\n",
       "  </thead>\n",
       "  <tbody>\n",
       "    <tr>\n",
       "      <th>0</th>\n",
       "      <td>3/4/2021</td>\n",
       "      <td>14261.85426</td>\n",
       "    </tr>\n",
       "    <tr>\n",
       "      <th>1</th>\n",
       "      <td>3/3/2021</td>\n",
       "      <td>14257.29443</td>\n",
       "    </tr>\n",
       "    <tr>\n",
       "      <th>2</th>\n",
       "      <td>3/2/2021</td>\n",
       "      <td>14256.28041</td>\n",
       "    </tr>\n",
       "    <tr>\n",
       "      <th>3</th>\n",
       "      <td>3/1/2021</td>\n",
       "      <td>14248.60576</td>\n",
       "    </tr>\n",
       "    <tr>\n",
       "      <th>4</th>\n",
       "      <td>2/26/2021</td>\n",
       "      <td>14300.27815</td>\n",
       "    </tr>\n",
       "    <tr>\n",
       "      <th>5</th>\n",
       "      <td>2/25/2021</td>\n",
       "      <td>14139.73096</td>\n",
       "    </tr>\n",
       "    <tr>\n",
       "      <th>6</th>\n",
       "      <td>2/24/2021</td>\n",
       "      <td>14083.03673</td>\n",
       "    </tr>\n",
       "    <tr>\n",
       "      <th>7</th>\n",
       "      <td>2/23/2021</td>\n",
       "      <td>14092.64503</td>\n",
       "    </tr>\n",
       "    <tr>\n",
       "      <th>8</th>\n",
       "      <td>2/22/2021</td>\n",
       "      <td>14118.07274</td>\n",
       "    </tr>\n",
       "    <tr>\n",
       "      <th>9</th>\n",
       "      <td>2/19/2021</td>\n",
       "      <td>14066.79375</td>\n",
       "    </tr>\n",
       "    <tr>\n",
       "      <th>10</th>\n",
       "      <td>2/18/2021</td>\n",
       "      <td>14013.51318</td>\n",
       "    </tr>\n",
       "    <tr>\n",
       "      <th>11</th>\n",
       "      <td>2/16/2021</td>\n",
       "      <td>13935.96629</td>\n",
       "    </tr>\n",
       "    <tr>\n",
       "      <th>12</th>\n",
       "      <td>2/15/2021</td>\n",
       "      <td>13918.18725</td>\n",
       "    </tr>\n",
       "    <tr>\n",
       "      <th>13</th>\n",
       "      <td>2/12/2021</td>\n",
       "      <td>13988.54710</td>\n",
       "    </tr>\n",
       "    <tr>\n",
       "      <th>14</th>\n",
       "      <td>2/11/2021</td>\n",
       "      <td>13982.27900</td>\n",
       "    </tr>\n",
       "    <tr>\n",
       "      <th>15</th>\n",
       "      <td>2/10/2021</td>\n",
       "      <td>13994.09212</td>\n",
       "    </tr>\n",
       "    <tr>\n",
       "      <th>16</th>\n",
       "      <td>2/9/2021</td>\n",
       "      <td>13920.52018</td>\n",
       "    </tr>\n",
       "    <tr>\n",
       "      <th>17</th>\n",
       "      <td>2/8/2021</td>\n",
       "      <td>14007.25257</td>\n",
       "    </tr>\n",
       "    <tr>\n",
       "      <th>18</th>\n",
       "      <td>2/5/2021</td>\n",
       "      <td>14008.99630</td>\n",
       "    </tr>\n",
       "    <tr>\n",
       "      <th>19</th>\n",
       "      <td>2/4/2021</td>\n",
       "      <td>14020.87878</td>\n",
       "    </tr>\n",
       "  </tbody>\n",
       "</table>\n",
       "</div>"
      ],
      "text/plain": [
       "      Tanggal      USD_IDR\n",
       "0    3/4/2021  14261.85426\n",
       "1    3/3/2021  14257.29443\n",
       "2    3/2/2021  14256.28041\n",
       "3    3/1/2021  14248.60576\n",
       "4   2/26/2021  14300.27815\n",
       "5   2/25/2021  14139.73096\n",
       "6   2/24/2021  14083.03673\n",
       "7   2/23/2021  14092.64503\n",
       "8   2/22/2021  14118.07274\n",
       "9   2/19/2021  14066.79375\n",
       "10  2/18/2021  14013.51318\n",
       "11  2/16/2021  13935.96629\n",
       "12  2/15/2021  13918.18725\n",
       "13  2/12/2021  13988.54710\n",
       "14  2/11/2021  13982.27900\n",
       "15  2/10/2021  13994.09212\n",
       "16   2/9/2021  13920.52018\n",
       "17   2/8/2021  14007.25257\n",
       "18   2/5/2021  14008.99630\n",
       "19   2/4/2021  14020.87878"
      ]
     },
     "execution_count": 7,
     "metadata": {},
     "output_type": "execute_result"
    }
   ],
   "source": [
    "import pandas as pd\n",
    "\n",
    "df = pd.DataFrame(temp, columns =('Tanggal','USD_IDR'))\n",
    "\n",
    "df.head(20)"
   ]
  },
  {
   "cell_type": "code",
   "execution_count": 8,
   "metadata": {
    "scrolled": true
   },
   "outputs": [
    {
     "data": {
      "text/plain": [
       "Tanggal    object\n",
       "USD_IDR    object\n",
       "dtype: object"
      ]
     },
     "execution_count": 8,
     "metadata": {},
     "output_type": "execute_result"
    }
   ],
   "source": [
    "df.dtypes"
   ]
  },
  {
   "cell_type": "code",
   "execution_count": 9,
   "metadata": {},
   "outputs": [],
   "source": [
    "df['USD_IDR'] = df['USD_IDR'].astype('float64')\n",
    "df['Tanggal'] = df['Tanggal'].astype('datetime64')"
   ]
  },
  {
   "cell_type": "code",
   "execution_count": 10,
   "metadata": {},
   "outputs": [
    {
     "data": {
      "text/plain": [
       "Tanggal    datetime64[ns]\n",
       "USD_IDR           float64\n",
       "dtype: object"
      ]
     },
     "execution_count": 10,
     "metadata": {},
     "output_type": "execute_result"
    }
   ],
   "source": [
    "df.dtypes"
   ]
  },
  {
   "cell_type": "code",
   "execution_count": 11,
   "metadata": {},
   "outputs": [
    {
     "data": {
      "text/html": [
       "<div>\n",
       "<style scoped>\n",
       "    .dataframe tbody tr th:only-of-type {\n",
       "        vertical-align: middle;\n",
       "    }\n",
       "\n",
       "    .dataframe tbody tr th {\n",
       "        vertical-align: top;\n",
       "    }\n",
       "\n",
       "    .dataframe thead th {\n",
       "        text-align: right;\n",
       "    }\n",
       "</style>\n",
       "<table border=\"1\" class=\"dataframe\">\n",
       "  <thead>\n",
       "    <tr style=\"text-align: right;\">\n",
       "      <th></th>\n",
       "      <th>Tanggal</th>\n",
       "      <th>USD_IDR</th>\n",
       "    </tr>\n",
       "  </thead>\n",
       "  <tbody>\n",
       "    <tr>\n",
       "      <th>0</th>\n",
       "      <td>2021-03-04</td>\n",
       "      <td>14261.85</td>\n",
       "    </tr>\n",
       "    <tr>\n",
       "      <th>1</th>\n",
       "      <td>2021-03-03</td>\n",
       "      <td>14257.29</td>\n",
       "    </tr>\n",
       "    <tr>\n",
       "      <th>2</th>\n",
       "      <td>2021-03-02</td>\n",
       "      <td>14256.28</td>\n",
       "    </tr>\n",
       "    <tr>\n",
       "      <th>3</th>\n",
       "      <td>2021-03-01</td>\n",
       "      <td>14248.61</td>\n",
       "    </tr>\n",
       "    <tr>\n",
       "      <th>4</th>\n",
       "      <td>2021-02-26</td>\n",
       "      <td>14300.28</td>\n",
       "    </tr>\n",
       "    <tr>\n",
       "      <th>5</th>\n",
       "      <td>2021-02-25</td>\n",
       "      <td>14139.73</td>\n",
       "    </tr>\n",
       "    <tr>\n",
       "      <th>6</th>\n",
       "      <td>2021-02-24</td>\n",
       "      <td>14083.04</td>\n",
       "    </tr>\n",
       "    <tr>\n",
       "      <th>7</th>\n",
       "      <td>2021-02-23</td>\n",
       "      <td>14092.65</td>\n",
       "    </tr>\n",
       "    <tr>\n",
       "      <th>8</th>\n",
       "      <td>2021-02-22</td>\n",
       "      <td>14118.07</td>\n",
       "    </tr>\n",
       "    <tr>\n",
       "      <th>9</th>\n",
       "      <td>2021-02-19</td>\n",
       "      <td>14066.79</td>\n",
       "    </tr>\n",
       "  </tbody>\n",
       "</table>\n",
       "</div>"
      ],
      "text/plain": [
       "     Tanggal   USD_IDR\n",
       "0 2021-03-04  14261.85\n",
       "1 2021-03-03  14257.29\n",
       "2 2021-03-02  14256.28\n",
       "3 2021-03-01  14248.61\n",
       "4 2021-02-26  14300.28\n",
       "5 2021-02-25  14139.73\n",
       "6 2021-02-24  14083.04\n",
       "7 2021-02-23  14092.65\n",
       "8 2021-02-22  14118.07\n",
       "9 2021-02-19  14066.79"
      ]
     },
     "execution_count": 11,
     "metadata": {},
     "output_type": "execute_result"
    }
   ],
   "source": [
    "df=df.round(2)\n",
    "df.head(10)"
   ]
  },
  {
   "cell_type": "code",
   "execution_count": 12,
   "metadata": {},
   "outputs": [
    {
     "data": {
      "text/html": [
       "<div>\n",
       "<style scoped>\n",
       "    .dataframe tbody tr th:only-of-type {\n",
       "        vertical-align: middle;\n",
       "    }\n",
       "\n",
       "    .dataframe tbody tr th {\n",
       "        vertical-align: top;\n",
       "    }\n",
       "\n",
       "    .dataframe thead th {\n",
       "        text-align: right;\n",
       "    }\n",
       "</style>\n",
       "<table border=\"1\" class=\"dataframe\">\n",
       "  <thead>\n",
       "    <tr style=\"text-align: right;\">\n",
       "      <th></th>\n",
       "      <th>USD_IDR</th>\n",
       "    </tr>\n",
       "    <tr>\n",
       "      <th>Tanggal</th>\n",
       "      <th></th>\n",
       "    </tr>\n",
       "  </thead>\n",
       "  <tbody>\n",
       "    <tr>\n",
       "      <th>2021-03-04</th>\n",
       "      <td>14261.85</td>\n",
       "    </tr>\n",
       "    <tr>\n",
       "      <th>2021-03-03</th>\n",
       "      <td>14257.29</td>\n",
       "    </tr>\n",
       "    <tr>\n",
       "      <th>2021-03-02</th>\n",
       "      <td>14256.28</td>\n",
       "    </tr>\n",
       "    <tr>\n",
       "      <th>2021-03-01</th>\n",
       "      <td>14248.61</td>\n",
       "    </tr>\n",
       "    <tr>\n",
       "      <th>2021-02-26</th>\n",
       "      <td>14300.28</td>\n",
       "    </tr>\n",
       "    <tr>\n",
       "      <th>...</th>\n",
       "      <td>...</td>\n",
       "    </tr>\n",
       "    <tr>\n",
       "      <th>2020-09-17</th>\n",
       "      <td>14829.42</td>\n",
       "    </tr>\n",
       "    <tr>\n",
       "      <th>2020-09-16</th>\n",
       "      <td>14807.89</td>\n",
       "    </tr>\n",
       "    <tr>\n",
       "      <th>2020-09-15</th>\n",
       "      <td>14843.45</td>\n",
       "    </tr>\n",
       "    <tr>\n",
       "      <th>2020-09-14</th>\n",
       "      <td>14864.66</td>\n",
       "    </tr>\n",
       "    <tr>\n",
       "      <th>2020-09-13</th>\n",
       "      <td>14876.45</td>\n",
       "    </tr>\n",
       "  </tbody>\n",
       "</table>\n",
       "<p>125 rows × 1 columns</p>\n",
       "</div>"
      ],
      "text/plain": [
       "             USD_IDR\n",
       "Tanggal             \n",
       "2021-03-04  14261.85\n",
       "2021-03-03  14257.29\n",
       "2021-03-02  14256.28\n",
       "2021-03-01  14248.61\n",
       "2021-02-26  14300.28\n",
       "...              ...\n",
       "2020-09-17  14829.42\n",
       "2020-09-16  14807.89\n",
       "2020-09-15  14843.45\n",
       "2020-09-14  14864.66\n",
       "2020-09-13  14876.45\n",
       "\n",
       "[125 rows x 1 columns]"
      ]
     },
     "execution_count": 12,
     "metadata": {},
     "output_type": "execute_result"
    }
   ],
   "source": [
    "df = df.set_index('Tanggal')\n",
    "df"
   ]
  },
  {
   "cell_type": "code",
   "execution_count": 13,
   "metadata": {},
   "outputs": [
    {
     "data": {
      "text/plain": [
       "DatetimeIndex(['2020-10-15', '2020-10-16', '2020-10-17', '2020-10-18',\n",
       "               '2020-10-19', '2020-10-20', '2020-10-21', '2020-10-22',\n",
       "               '2020-10-23', '2020-10-24',\n",
       "               ...\n",
       "               '2021-02-23', '2021-02-24', '2021-02-25', '2021-02-26',\n",
       "               '2021-02-27', '2021-02-28', '2021-03-01', '2021-03-02',\n",
       "               '2021-03-03', '2021-03-04'],\n",
       "              dtype='datetime64[ns]', length=141, freq='D')"
      ]
     },
     "execution_count": 13,
     "metadata": {},
     "output_type": "execute_result"
    }
   ],
   "source": [
    "period = pd.date_range(start=\"2020-10-15\", end=\"2021-03-04\")\n",
    "period"
   ]
  },
  {
   "cell_type": "code",
   "execution_count": 14,
   "metadata": {},
   "outputs": [
    {
     "data": {
      "text/html": [
       "<div>\n",
       "<style scoped>\n",
       "    .dataframe tbody tr th:only-of-type {\n",
       "        vertical-align: middle;\n",
       "    }\n",
       "\n",
       "    .dataframe tbody tr th {\n",
       "        vertical-align: top;\n",
       "    }\n",
       "\n",
       "    .dataframe thead th {\n",
       "        text-align: right;\n",
       "    }\n",
       "</style>\n",
       "<table border=\"1\" class=\"dataframe\">\n",
       "  <thead>\n",
       "    <tr style=\"text-align: right;\">\n",
       "      <th></th>\n",
       "      <th>USD_IDR</th>\n",
       "    </tr>\n",
       "  </thead>\n",
       "  <tbody>\n",
       "    <tr>\n",
       "      <th>2020-10-15</th>\n",
       "      <td>14667.95</td>\n",
       "    </tr>\n",
       "    <tr>\n",
       "      <th>2020-10-16</th>\n",
       "      <td>14688.44</td>\n",
       "    </tr>\n",
       "    <tr>\n",
       "      <th>2020-10-17</th>\n",
       "      <td>NaN</td>\n",
       "    </tr>\n",
       "    <tr>\n",
       "      <th>2020-10-18</th>\n",
       "      <td>NaN</td>\n",
       "    </tr>\n",
       "    <tr>\n",
       "      <th>2020-10-19</th>\n",
       "      <td>14705.13</td>\n",
       "    </tr>\n",
       "    <tr>\n",
       "      <th>...</th>\n",
       "      <td>...</td>\n",
       "    </tr>\n",
       "    <tr>\n",
       "      <th>2021-02-28</th>\n",
       "      <td>NaN</td>\n",
       "    </tr>\n",
       "    <tr>\n",
       "      <th>2021-03-01</th>\n",
       "      <td>14248.61</td>\n",
       "    </tr>\n",
       "    <tr>\n",
       "      <th>2021-03-02</th>\n",
       "      <td>14256.28</td>\n",
       "    </tr>\n",
       "    <tr>\n",
       "      <th>2021-03-03</th>\n",
       "      <td>14257.29</td>\n",
       "    </tr>\n",
       "    <tr>\n",
       "      <th>2021-03-04</th>\n",
       "      <td>14261.85</td>\n",
       "    </tr>\n",
       "  </tbody>\n",
       "</table>\n",
       "<p>141 rows × 1 columns</p>\n",
       "</div>"
      ],
      "text/plain": [
       "             USD_IDR\n",
       "2020-10-15  14667.95\n",
       "2020-10-16  14688.44\n",
       "2020-10-17       NaN\n",
       "2020-10-18       NaN\n",
       "2020-10-19  14705.13\n",
       "...              ...\n",
       "2021-02-28       NaN\n",
       "2021-03-01  14248.61\n",
       "2021-03-02  14256.28\n",
       "2021-03-03  14257.29\n",
       "2021-03-04  14261.85\n",
       "\n",
       "[141 rows x 1 columns]"
      ]
     },
     "execution_count": 14,
     "metadata": {},
     "output_type": "execute_result"
    }
   ],
   "source": [
    "df = df.reindex(period)\n",
    "df"
   ]
  },
  {
   "cell_type": "code",
   "execution_count": 15,
   "metadata": {},
   "outputs": [
    {
     "data": {
      "text/plain": [
       "<AxesSubplot:>"
      ]
     },
     "execution_count": 15,
     "metadata": {},
     "output_type": "execute_result"
    },
    {
     "data": {
      "image/png": "[encoded data removed]",
      "text/plain": [
       "<Figure size 432x288 with 1 Axes>"
      ]
     },
     "metadata": {
      "needs_background": "light"
     },
     "output_type": "display_data"
    }
   ],
   "source": [
    "df.ffill().plot.line()"
   ]
  },
  {
   "cell_type": "markdown",
   "metadata": {},
   "source": [
    "Do the data cleaning here (please change this markdown with your explanation of what you do for data wrangling)"
   ]
  },
  {
   "cell_type": "markdown",
   "metadata": {},
   "source": [
    "    First, I changed the data types accordingly for the dates and the USD/IDR (float) as well as setting the dates as the \n",
    "    index column. Then for the time series data frame, I set the period of the data to smoothen it out since \n",
    "    some dates are missing. Using, ffill, we filled the missing dates with the last closing currency price. "
   ]
  },
  {
   "cell_type": "markdown",
   "metadata": {},
   "source": [
    "### Implementing your webscrapping to the flask dashboard\n",
    "\n",
    "- Copy paste all of your web scrapping process to the desired position on the `app.py`\n",
    "- Changing the title of the dasboard at `index.html`"
   ]
  },
  {
   "cell_type": "markdown",
   "metadata": {},
   "source": [
    "## Finishing This Notebook with Your Analysis and Conclusion\n",
    "\n",
    "First you can do start with making the data visualisation. "
   ]
  },
  {
   "cell_type": "markdown",
   "metadata": {
    "ExecuteTime": {
     "end_time": "2020-01-13T05:20:56.208237Z",
     "start_time": "2020-01-13T05:20:56.076043Z"
    }
   },
   "source": [
    "We are seeing the strengthening of Rupiah since November 2020 and it reached it's strongest level in January 2021. \n"
   ]
  },
  {
   "cell_type": "markdown",
   "metadata": {},
   "source": [
    "### Extra Challange\n",
    "\n",
    "This will be not included to the scoring. \n",
    "\n",
    "- You can create additional analysis from the data.\n",
    "- Implement it to the dashboard with at `app.py` dan `index.html`."
   ]
  }
 ],
 "metadata": {
  "kernelspec": {
   "display_name": "da-newton",
   "language": "python",
   "name": "da-newton"
  },
  "language_info": {
   "codemirror_mode": {
    "name": "ipython",
    "version": 3
   },
   "file_extension": ".py",
   "mimetype": "text/x-python",
   "name": "python",
   "nbconvert_exporter": "python",
   "pygments_lexer": "ipython3",
   "version": "3.8.5"
  }
 },
 "nbformat": 4,
 "nbformat_minor": 2
}
